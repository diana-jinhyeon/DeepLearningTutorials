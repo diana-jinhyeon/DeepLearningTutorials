{
 "cells": [
  {
   "cell_type": "code",
   "execution_count": null,
   "metadata": {
    "collapsed": true
   },
   "outputs": [],
   "source": [
    "#-*- coding: utf-8 -*-\n",
    "from tensorflow.examples.tutorials.mnist import input_data\n",
    "mnist = input_data.read_data_sets(\"MNIST_data/\", one_hot=True) # Yann LeCun's website에서 MNIST 다운\n",
    "import tensorflow as tf\n",
    "\n",
    "\n",
    "#tensorboard --logdir=path/to/log-directory\n",
    "#TensorBoard operates by reading TensorFlow events files,\n",
    "#  which contain summary data that you can generate when running TensorFlow.\n",
    "\n",
    "def variable_summaries(var, name):\n",
    "  \"\"\"Attach a lot of summaries to a Tensor.\"\"\"\n",
    "  with tf.name_scope('summaries'):\n",
    "    mean = tf.reduce_mean(var)\n",
    "    tf.scalar_summary('mean/' + name, mean)\n",
    "    with tf.name_scope('stddev'):\n",
    "      stddev = tf.sqrt(tf.reduce_mean(tf.square(var - mean)))\n",
    "    tf.scalar_summary('stddev/' + name, stddev)\n",
    "    tf.scalar_summary('max/' + name, tf.reduce_max(var))\n",
    "    tf.scalar_summary('min/' + name, tf.reduce_min(var))\n",
    "    tf.histogram_summary(name, var)\n",
    "\n",
    "#### 모델 셋팅 시작 ####\n",
    "with tf.name_scope('input'):\n",
    "  x = tf.placeholder(tf.float32, [None, 784], name=\"placeholder_mnist\")  # 데이터 담을 placeholder 선언\n",
    "  y_ = tf.placeholder(tf.float32, [None, 10], name=\"placeholder_TrueLabel\") # True Label 값\n",
    "\n",
    "# to define a hierarchy on the nodes in the graph\n",
    "# The better your name scopes, the better your visualization.\n",
    "with tf.name_scope('FC_Layer') as scope:\n",
    "  with tf.name_scope('weights'):\n",
    "    W = tf.Variable(tf.zeros([784, 10]), name=\"var_Weight\") # 학습할 Weight Matrix\n",
    "    variable_summaries(W, 'weights')\n",
    "  with tf.name_scope('biases'):\n",
    "    b = tf.Variable(tf.zeros([10]), name=\"var_Bias\") # 학습할 bias\n",
    "    variable_summaries(b, 'biases')\n",
    "  with tf.name_scope('Wx_plus_b'):\n",
    "    preactivate = tf.matmul(x, W) + b\n",
    "    tf.histogram_summary('pre_activations', preactivate)\n",
    "  y = tf.nn.softmax(preactivate) # 예측 Label 값\n",
    "  tf.histogram_summary('softmax', y)\n",
    "\n",
    "\n",
    "with tf.name_scope('cross_entropy'):\n",
    "  cross_entropy = tf.reduce_mean(-tf.reduce_sum(y_ * tf.log(y), reduction_indices=[1]), name=\"Cross_entropy\") # Loss\n",
    "  tf.scalar_summary('cross entropy', cross_entropy)\n",
    "\n",
    "with tf.name_scope('train'):\n",
    "  train_step = tf.train.GradientDescentOptimizer(0.5).minimize(cross_entropy)\n",
    "#### 모델 셋팅 끝 ####"
   ]
  },
  {
   "cell_type": "code",
   "execution_count": null,
   "metadata": {
    "collapsed": true
   },
   "outputs": [],
   "source": [
    "with tf.name_scope('accuracy'):\n",
    "  correct_prediction = tf.equal(tf.argmax(y, 1), tf.argmax(y_, 1), name=\"correct_prediction\")\n",
    "  accuracy = tf.reduce_mean(tf.cast(correct_prediction, tf.float32), name=\"accuracy\")\n",
    "  tf.scalar_summary('accuracy', accuracy)"
   ]
  },
  {
   "cell_type": "code",
   "execution_count": null,
   "metadata": {
    "collapsed": true
   },
   "outputs": [],
   "source": [
    "# Merge all the summaries and write them out to /tmp/mnist_logs (by default) # 저장 위치 지정가능\n",
    "merged = tf.merge_all_summaries()"
   ]
  },
  {
   "cell_type": "code",
   "execution_count": null,
   "metadata": {
    "collapsed": true
   },
   "outputs": [],
   "source": [
    "init = tf.initialize_all_variables() # 변수 초기화(텐서플로우 필수과정)\n",
    "\n",
    "sess = tf.Session() # 세션 열기\n",
    "sess.run(init) # 초기화"
   ]
  },
  {
   "cell_type": "code",
   "execution_count": null,
   "metadata": {
    "collapsed": true
   },
   "outputs": [],
   "source": [
    "# Add ops to save and restore all the variables.\n",
    "# Variables are saved in binary files that, roughly, contain a map from variable names to tensor values.\n",
    "saver = tf.train.Saver() # 저장 대상이 모든 Variables 경우\n",
    "# Add ops to save and restore only 'v2' using the name \"my_v2\"\n",
    "#saver = tf.train.Saver({\"my_v2\": v2}) # 저장 대상이 일부 Variables 경우"
   ]
  },
  {
   "cell_type": "code",
   "execution_count": null,
   "metadata": {
    "collapsed": true
   },
   "outputs": [],
   "source": [
    "train_writer = tf.train.SummaryWriter('./train',\n",
    "                                      sess.graph)\n",
    "test_writer = tf.train.SummaryWriter('./test')"
   ]
  },
  {
   "cell_type": "code",
   "execution_count": null,
   "metadata": {
    "collapsed": true
   },
   "outputs": [],
   "source": [
    "for i in range(1000):\n",
    "\n",
    "  if i % 10 == 0:  # Record summaries and test-set accuracy\n",
    "    summary, acc = sess.run([merged, accuracy], feed_dict={x: mnist.test.images, y_: mnist.test.labels})\n",
    "    test_writer.add_summary(summary, i)\n",
    "    print('Accuracy at step %s: %s' % (i, acc))\n",
    "  if i % 100 == 99:  # Record execution stats, Starting at 99 and This code will emit runtime statistics for every 100th step\n",
    "    batch_xs, batch_ys = mnist.train.next_batch(100)  # train, validation, test 에 데이터가 들어가 있음 #  return self._images[start:end], self._labels[start:end]\n",
    "    run_options = tf.RunOptions(trace_level=tf.RunOptions.FULL_TRACE)\n",
    "    run_metadata = tf.RunMetadata()\n",
    "    summary, _ = sess.run([merged, train_step], feed_dict={x: batch_xs, y_: batch_ys},\n",
    "                            options=run_options, run_metadata=run_metadata)\n",
    "    train_writer.add_run_metadata(run_metadata, 'step%d' % i)\n",
    "    train_writer.add_summary(summary, i)\n",
    "    print('Adding run metadata for', i)\n",
    "  else:\n",
    "    batch_xs, batch_ys = mnist.train.next_batch(100)\n",
    "    summary, _ = sess.run([merged, train_step], feed_dict={x: batch_xs, y_: batch_ys})\n",
    "    train_writer.add_summary(summary, i)\n",
    "\n",
    "\n",
    "#### 테스트 그래프 셋팅 시작 ####\n",
    "print(mnist.test.labels)\n",
    "print(sess.run(accuracy, feed_dict={x: mnist.test.images, y_: mnist.test.labels}))\n",
    "#### 테스트 그래프 셋팅 끝 ####"
   ]
  },
  {
   "cell_type": "code",
   "execution_count": null,
   "metadata": {
    "collapsed": true
   },
   "outputs": [],
   "source": [
    "# Save the variables to disk.\n",
    "# 폴더 미리 있어야함\n",
    "# 루프 안에서 주기적으로 저장할 경우는 아래와 같이\n",
    "# saver.save(sess, 'my-model', global_step=1000) ==> filename: 'my-model-1000'\n",
    "save_path = saver.save(sess, \"./save/model.ckpt\")\n",
    "print(\"Model saved in file: %s\" % save_path)\n",
    "\n",
    "\n",
    "# Restore variables from disk.\n",
    "#saver.restore(sess, \"./save/model.ckpt\")\n",
    "#print(\"Model restored.\")\n",
    "\n",
    "## Reference\n",
    "#https://github.com/tensorflow/tensorflow/blob/r0.11/tensorflow/examples/tutorials/mnist/mnist_with_summaries.py"
   ]
  }
 ],
 "metadata": {
  "kernelspec": {
   "display_name": "Python [conda env:tensorflow]",
   "language": "python",
   "name": "conda-env-tensorflow-py"
  },
  "language_info": {
   "codemirror_mode": {
    "name": "ipython",
    "version": 3
   },
   "file_extension": ".py",
   "mimetype": "text/x-python",
   "name": "python",
   "nbconvert_exporter": "python",
   "pygments_lexer": "ipython3",
   "version": "3.5.2"
  }
 },
 "nbformat": 4,
 "nbformat_minor": 1
}
