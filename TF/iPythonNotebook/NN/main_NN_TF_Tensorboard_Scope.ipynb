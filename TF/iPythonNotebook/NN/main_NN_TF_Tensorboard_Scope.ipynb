{
 "cells": [
  {
   "cell_type": "code",
   "execution_count": null,
   "metadata": {
    "collapsed": true
   },
   "outputs": [],
   "source": [
    "#-*- coding: utf-8 -*-\n",
    "from tensorflow.examples.tutorials.mnist import input_data\n",
    "mnist = input_data.read_data_sets(\"MNIST_data/\", one_hot=True) # Yann LeCun's website에서 MNIST 다운\n",
    "import tensorflow as tf\n",
    "\n",
    "\n",
    "#tensorboard --logdir=path/to/log-directory\n",
    "#TensorBoard operates by reading TensorFlow events files,\n",
    "#  which contain summary data that you can generate when running TensorFlow.\n",
    "\n",
    "def variable_summaries(var, name):\n",
    "  \"\"\"Attach a lot of summaries to a Tensor.\"\"\"\n",
    "  with tf.name_scope('summaries'):\n",
    "    mean = tf.reduce_mean(var)\n",
    "    tf.summary.scalar('mean/' + name, mean)\n",
    "    with tf.name_scope('stddev'):\n",
    "      stddev = tf.sqrt(tf.reduce_mean(tf.square(var - mean)))\n",
    "    tf.summary.scalar('stddev/' + name, stddev)\n",
    "    tf.summary.scalar('max/' + name, tf.reduce_max(var))\n",
    "    tf.summary.scalar('min/' + name, tf.reduce_min(var))\n",
    "    tf.summary.histogram(name, var)\n",
    "\n",
    "#### 모델 셋팅 시작 ####\n",
    "with tf.name_scope('input'):\n",
    "  x = tf.placeholder(tf.float32, [None, 784], name=\"placeholder_mnist\")  # 데이터 담을 placeholder 선언\n",
    "  y_ = tf.placeholder(tf.float32, [None, 10], name=\"placeholder_TrueLabel\") # True Label 값\n",
    "\n",
    "# to define a hierarchy on the nodes in the graph\n",
    "# The better your name scopes, the better your visualization.\n",
    "with tf.name_scope('FC_Layer') as scope:\n",
    "  with tf.name_scope('weights'):\n",
    "    W = tf.Variable(tf.zeros([784, 10]), name=\"var_Weight\") # 학습할 Weight Matrix\n",
    "    variable_summaries(W, 'weights')\n",
    "  with tf.name_scope('biases'):\n",
    "    b = tf.Variable(tf.zeros([10]), name=\"var_Bias\") # 학습할 bias\n",
    "    variable_summaries(b, 'biases')\n",
    "  with tf.name_scope('Wx_plus_b'):\n",
    "    preactivate = tf.matmul(x, W) + b\n",
    "    tf.summary.histogram('pre_activations', preactivate)\n",
    "  y = tf.nn.softmax(preactivate) # 예측 Label 값\n",
    "  tf.summary.histogram('softmax', y)\n",
    "\n",
    "\n",
    "\n",
    "with tf.name_scope('cross_entropy'):\n",
    "  cross_entropy = tf.reduce_mean(-tf.reduce_sum(y_ * tf.log(y), axis=[1]), name=\"Cross_entropy\") # Loss\n",
    "  tf.summary.scalar('cross entropy', cross_entropy)\n",
    "\n",
    "with tf.name_scope('train'):\n",
    "  train_step = tf.train.GradientDescentOptimizer(0.5).minimize(cross_entropy)\n",
    "\n",
    "#### 모델 셋팅 끝 ####\n"
   ]
  },
  {
   "cell_type": "code",
   "execution_count": null,
   "metadata": {
    "collapsed": true
   },
   "outputs": [],
   "source": [
    "\n",
    "with tf.name_scope('accuracy'):\n",
    "  correct_prediction = tf.equal(tf.argmax(y, 1), tf.argmax(y_, 1), name=\"correct_prediction\")\n",
    "  accuracy = tf.reduce_mean(tf.cast(correct_prediction, tf.float32), name=\"accuracy\")\n",
    "  tf.summary.scalar('accuracy', accuracy)\n"
   ]
  },
  {
   "cell_type": "code",
   "execution_count": null,
   "metadata": {
    "collapsed": true
   },
   "outputs": [],
   "source": [
    "# Merge all the summaries and write them out to /tmp/mnist_logs (by default) # 저장 위치 지정가능\n",
    "merged = tf.summary.merge_all()"
   ]
  },
  {
   "cell_type": "code",
   "execution_count": null,
   "metadata": {
    "collapsed": true
   },
   "outputs": [],
   "source": [
    "\n",
    "init = tf.global_variables_initializer() # 변수 초기화(텐서플로우 필수과정)\n",
    "\n",
    "sess = tf.Session() # 세션 열기\n",
    "sess.run(init) # 초기화\n"
   ]
  },
  {
   "cell_type": "code",
   "execution_count": null,
   "metadata": {
    "collapsed": true
   },
   "outputs": [],
   "source": [
    "\n",
    "train_writer = tf.summary.FileWriter('./train',\n",
    "                                      sess.graph)\n",
    "test_writer = tf.summary.FileWriter('./test')\n"
   ]
  },
  {
   "cell_type": "code",
   "execution_count": null,
   "metadata": {
    "collapsed": true
   },
   "outputs": [],
   "source": [
    "\n",
    "for i in range(1000):\n",
    "  batch_xs, batch_ys = mnist.train.next_batch(100) # train, validation, test 에 데이터가 들어가 있음 #  return self._images[start:end], self._labels[start:end]\n",
    "  #sess.run(train_step, feed_dict={x: batch_xs, y_: batch_ys})\n",
    "  summary, _ = sess.run([merged, train_step], feed_dict={x: batch_xs, y_: batch_ys})\n",
    "  train_writer.add_summary(summary, i)\n",
    "\n",
    "\n",
    "#### 테스트 세션 시작 ####\n",
    "print(mnist.test.labels)\n",
    "print(sess.run(accuracy, feed_dict={x: mnist.test.images, y_: mnist.test.labels}))\n",
    "#### 테스트 세션 끝 ####\n",
    "\n"
   ]
  }
 ],
 "metadata": {
  "anaconda-cloud": {},
  "kernelspec": {
   "display_name": "Python [conda env:tensorflow]",
   "language": "python",
   "name": "conda-env-tensorflow-py"
  },
  "language_info": {
   "codemirror_mode": {
    "name": "ipython",
    "version": 3.0
   },
   "file_extension": ".py",
   "mimetype": "text/x-python",
   "name": "python",
   "nbconvert_exporter": "python",
   "pygments_lexer": "ipython3",
   "version": "3.5.2"
  }
 },
 "nbformat": 4,
 "nbformat_minor": 0
}